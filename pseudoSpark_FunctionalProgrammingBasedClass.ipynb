{
  "nbformat": 4,
  "nbformat_minor": 0,
  "metadata": {
    "colab": {
      "name": "pseudoSpark_FunctionalProgrammingBasedClass.ipynb",
      "provenance": [],
      "collapsed_sections": []
    },
    "kernelspec": {
      "name": "python3",
      "display_name": "Python 3"
    },
    "language_info": {
      "name": "python"
    }
  },
  "cells": [
    {
      "cell_type": "code",
      "execution_count": 1,
      "metadata": {
        "id": "vxYKL7bqYkWh"
      },
      "outputs": [],
      "source": [
        "import pandas as pd\n",
        "import numpy as np"
      ]
    },
    {
      "cell_type": "code",
      "source": [
        "class chk:\n",
        "  def __init__(self,src_dt=None,fn=[]):\n",
        "    self.data=src_dt\n",
        "    self.lt_fn=fn\n",
        "    self.result=None\n",
        "    #We requrie that the data must at least have a source path \n",
        "\n",
        "  \n",
        "  def append_fn(self,fn_new):\n",
        "    '''\n",
        "    '''\n",
        "    return chk(src_dt=self.data,fn=self.lt_fn+[fn_new])\n",
        "  \n",
        "  def attach_data(self,dt):\n",
        "    return chk(src_dt=dt,fn=self.lt_fn)\n",
        "  \n",
        "  def collect(self):\n",
        "    while len(self.lt_fn)>0:\n",
        "      temp_fn=self.lt_fn.pop(0)\n",
        "      if not self.result:\n",
        "        self.result=np.array(list(map(temp_fn,self.data)))\n",
        "      else:\n",
        "        self.result=np.array(list(map(temp_fn,self.result)))\n",
        "    return self.result\n",
        "\n"
      ],
      "metadata": {
        "id": "2e16RfEaYrPT"
      },
      "execution_count": 57,
      "outputs": []
    },
    {
      "cell_type": "code",
      "source": [
        "rdd=chk()"
      ],
      "metadata": {
        "id": "7QsDEWvxcH99"
      },
      "execution_count": 58,
      "outputs": []
    },
    {
      "cell_type": "code",
      "source": [
        "temp_data=np.arange(15).reshape(5,3)"
      ],
      "metadata": {
        "id": "orxjQGtddoDy"
      },
      "execution_count": 59,
      "outputs": []
    },
    {
      "cell_type": "code",
      "source": [
        "rdd0=rdd.attach_data(dt=temp_data)\n",
        "\n",
        "rdd01=rdd0.append_fn(lambda x: x**2)\n",
        "rdd012=rdd01.append_fn(lambda x: x*10)\n",
        "\n",
        "rdd02=rdd0.append_fn(lambda x: x*10)\n"
      ],
      "metadata": {
        "id": "i0QaDoencK0j"
      },
      "execution_count": 60,
      "outputs": []
    },
    {
      "cell_type": "code",
      "source": [
        "rdd012.lt_fn"
      ],
      "metadata": {
        "colab": {
          "base_uri": "https://localhost:8080/"
        },
        "id": "ifo8eAPveQpm",
        "outputId": "1305db2b-47ce-415b-feaa-33bed15705b6"
      },
      "execution_count": 61,
      "outputs": [
        {
          "output_type": "execute_result",
          "data": {
            "text/plain": [
              "[<function __main__.<lambda>>, <function __main__.<lambda>>]"
            ]
          },
          "metadata": {},
          "execution_count": 61
        }
      ]
    },
    {
      "cell_type": "code",
      "source": [
        "rdd02.lt_fn"
      ],
      "metadata": {
        "colab": {
          "base_uri": "https://localhost:8080/"
        },
        "id": "0vTKiuPPeTOS",
        "outputId": "8ee1d2b2-065e-491e-93de-5c7daa97e3b9"
      },
      "execution_count": 62,
      "outputs": [
        {
          "output_type": "execute_result",
          "data": {
            "text/plain": [
              "[<function __main__.<lambda>>]"
            ]
          },
          "metadata": {},
          "execution_count": 62
        }
      ]
    },
    {
      "cell_type": "code",
      "source": [
        "rdd02.collect()"
      ],
      "metadata": {
        "colab": {
          "base_uri": "https://localhost:8080/"
        },
        "id": "o0AsBClrhWFX",
        "outputId": "c91ce9fa-0531-40fe-8f39-5dfb92a0b438"
      },
      "execution_count": 63,
      "outputs": [
        {
          "output_type": "execute_result",
          "data": {
            "text/plain": [
              "array([[  0,  10,  20],\n",
              "       [ 30,  40,  50],\n",
              "       [ 60,  70,  80],\n",
              "       [ 90, 100, 110],\n",
              "       [120, 130, 140]])"
            ]
          },
          "metadata": {},
          "execution_count": 63
        }
      ]
    },
    {
      "cell_type": "code",
      "source": [
        ""
      ],
      "metadata": {
        "id": "UzysS53ukiwL"
      },
      "execution_count": null,
      "outputs": []
    },
    {
      "cell_type": "markdown",
      "source": [
        "#Rough WOrk"
      ],
      "metadata": {
        "id": "un-GRXQEdJaY"
      }
    },
    {
      "cell_type": "code",
      "source": [
        "  # @classmethod\n",
        "  # def fn_append(cls,fn_new):\n",
        "  #   return cls(src_dt=cls.data,fn=cls.lt_fn+[fn_new])\n",
        "\n",
        "  "
      ],
      "metadata": {
        "id": "4Re8tcuddI11"
      },
      "execution_count": null,
      "outputs": []
    },
    {
      "cell_type": "markdown",
      "source": [
        "# Reference \n",
        "\n",
        "# https://stackoverflow.com/questions/38238/what-is-the-purpose-of-class-methods#:~:text=Class%20methods%20are%20for%20when,the%20class%20in%20some%20way.\n",
        "\n",
        "\n",
        "\n",
        "## We can return instance of the same class with modified parameters \n",
        "### This is how piping in pandas is formulated  \n",
        "\n",
        "https://stackoverflow.com/questions/10810926/can-a-python-class-return-a-new-instance-of-its-class\n",
        "\n",
        "\n"
      ],
      "metadata": {
        "id": "YklEx9g1lsmX"
      }
    },
    {
      "cell_type": "code",
      "source": [
        ""
      ],
      "metadata": {
        "id": "fIXUVMNslrAG"
      },
      "execution_count": 64,
      "outputs": []
    },
    {
      "cell_type": "code",
      "source": [
        ""
      ],
      "metadata": {
        "id": "sTV5_0WhlrGG"
      },
      "execution_count": null,
      "outputs": []
    }
  ]
}